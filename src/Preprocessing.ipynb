{
 "cells": [
  {
   "cell_type": "code",
   "execution_count": 1,
   "metadata": {},
   "outputs": [],
   "source": [
    "import pandas as pd\n",
    "import nltk\n",
    "import re"
   ]
  },
  {
   "cell_type": "code",
   "execution_count": 2,
   "metadata": {},
   "outputs": [],
   "source": [
    "df = pd.read_csv('../datasets/bullying_twitter_preprocessing.csv')\n",
    "df.columns=['original_text', 'target']"
   ]
  },
  {
   "cell_type": "markdown",
   "metadata": {},
   "source": [
    "#### Retirar usernames, links e hashtags"
   ]
  },
  {
   "cell_type": "code",
   "execution_count": 3,
   "metadata": {},
   "outputs": [],
   "source": [
    "# Regex for username, links, and hashtags\n",
    "patterns = [\n",
    "    (r\"\\@\\w+\", \"__USERNAME__\"),\n",
    "    (r\"\\bhttps?:(\\/\\/)?\\w+\\.\\w+(\\.\\w+)*(\\/\\w+)*\\/?\", \"__HTTP_LINK__\"),\n",
    "    (r\"#\", \"\")\n",
    "]"
   ]
  },
  {
   "cell_type": "code",
   "execution_count": 4,
   "metadata": {},
   "outputs": [],
   "source": [
    "for p, s in patterns:\n",
    "    df.original_text = df.original_text.apply(lambda t: re.sub(p, s, t.lower()))"
   ]
  },
  {
   "cell_type": "markdown",
   "metadata": {},
   "source": [
    "#### Quebrar em unigrams, bigrams e pos tag"
   ]
  },
  {
   "cell_type": "code",
   "execution_count": 5,
   "metadata": {},
   "outputs": [],
   "source": [
    "df['unigrams'] = df.original_text.apply(lambda t: nltk.word_tokenize(t))\n",
    "df['bigrams'] = df.unigrams.apply(lambda t: list(nltk.bigrams(t)))\n",
    "df['pos_tag'] = df.unigrams.apply(lambda u: list(nltk.pos_tag(u)))"
   ]
  },
  {
   "cell_type": "markdown",
   "metadata": {},
   "source": [
    " "
   ]
  },
  {
   "cell_type": "code",
   "execution_count": 7,
   "metadata": {},
   "outputs": [],
   "source": [
    "df.to_csv('../datasets/bullying_twitter_preprocessed.csv', index=False, sep=';')"
   ]
  }
 ],
 "metadata": {
  "kernelspec": {
   "display_name": "Python 3",
   "language": "python",
   "name": "python3"
  },
  "language_info": {
   "codemirror_mode": {
    "name": "ipython",
    "version": 3
   },
   "file_extension": ".py",
   "mimetype": "text/x-python",
   "name": "python",
   "nbconvert_exporter": "python",
   "pygments_lexer": "ipython3",
   "version": "3.7.3"
  }
 },
 "nbformat": 4,
 "nbformat_minor": 2
}
